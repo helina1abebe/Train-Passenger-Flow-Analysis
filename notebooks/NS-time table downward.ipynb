{
 "cells": [
  {
   "cell_type": "code",
   "execution_count": 236,
   "id": "e5a6739e",
   "metadata": {},
   "outputs": [],
   "source": [
    "import pandas as pd\n",
    "import sys\n",
    "import os\n",
    "scripts_path = \"../scripts\"\n",
    "sys.path.append(scripts_path)\n"
   ]
  },
  {
   "cell_type": "code",
   "execution_count": 237,
   "id": "0d69ec4b",
   "metadata": {},
   "outputs": [],
   "source": [
    "import importlib\n",
    "import time_analysisss\n",
    "importlib.reload(time_analysisss)\n",
    "\n",
    "from time_analysisss import load_data\n",
    "\n",
    "df = load_data(\"../data/raw/NS- time table for Downward.csv\")\n",
    "\n"
   ]
  },
  {
   "cell_type": "code",
   "execution_count": 238,
   "id": "083bf861",
   "metadata": {},
   "outputs": [],
   "source": [
    "import sys\n",
    "sys.path.append('../scripts')  # adjust if needed\n",
    "\n",
    "import importlib\n",
    "import passenger_flow_utils\n",
    "importlib.reload(passenger_flow_utils)\n",
    "\n",
    "from passenger_flow_utils import basic_checks\n"
   ]
  },
  {
   "cell_type": "code",
   "execution_count": 239,
   "id": "867cf741",
   "metadata": {},
   "outputs": [
    {
     "data": {
      "text/html": [
       "<div>\n",
       "<style scoped>\n",
       "    .dataframe tbody tr th:only-of-type {\n",
       "        vertical-align: middle;\n",
       "    }\n",
       "\n",
       "    .dataframe tbody tr th {\n",
       "        vertical-align: top;\n",
       "    }\n",
       "\n",
       "    .dataframe thead th {\n",
       "        text-align: right;\n",
       "    }\n",
       "</style>\n",
       "<table border=\"1\" class=\"dataframe\">\n",
       "  <thead>\n",
       "    <tr style=\"text-align: right;\">\n",
       "      <th></th>\n",
       "      <th>Stations</th>\n",
       "      <th>Stations .1</th>\n",
       "      <th>Train times</th>\n",
       "      <th>20101</th>\n",
       "      <th>20201</th>\n",
       "      <th>20301</th>\n",
       "      <th>20401</th>\n",
       "      <th>20501</th>\n",
       "      <th>20601</th>\n",
       "      <th>20701</th>\n",
       "      <th>...</th>\n",
       "      <th>20115</th>\n",
       "      <th>20215</th>\n",
       "      <th>20315</th>\n",
       "      <th>20415</th>\n",
       "      <th>20615</th>\n",
       "      <th>20715</th>\n",
       "      <th>20815</th>\n",
       "      <th>20217</th>\n",
       "      <th>20317</th>\n",
       "      <th>20417</th>\n",
       "    </tr>\n",
       "  </thead>\n",
       "  <tbody>\n",
       "    <tr>\n",
       "      <th>0</th>\n",
       "      <td>Menilik II Square T22702</td>\n",
       "      <td>NS27</td>\n",
       "      <td>Returning</td>\n",
       "      <td>5:57:00</td>\n",
       "      <td>6:12:00</td>\n",
       "      <td>6:27:00</td>\n",
       "      <td>6:42:00</td>\n",
       "      <td>7:03:00</td>\n",
       "      <td>7:18:00</td>\n",
       "      <td>7:33:00</td>\n",
       "      <td>...</td>\n",
       "      <td>20:03:00</td>\n",
       "      <td>20:18:00</td>\n",
       "      <td>20:38:00</td>\n",
       "      <td>20:58:00</td>\n",
       "      <td>21:18:00</td>\n",
       "      <td>21:38:00</td>\n",
       "      <td>21:58:00</td>\n",
       "      <td>22:16:20</td>\n",
       "      <td>22:36:20</td>\n",
       "      <td>22:59:20</td>\n",
       "    </tr>\n",
       "    <tr>\n",
       "      <th>1</th>\n",
       "      <td>Menilik II Square T22705</td>\n",
       "      <td>NS27</td>\n",
       "      <td>Arrival</td>\n",
       "      <td>5:57:36</td>\n",
       "      <td>6:12:36</td>\n",
       "      <td>6:27:36</td>\n",
       "      <td>6:42:36</td>\n",
       "      <td>7:03:36</td>\n",
       "      <td>7:18:36</td>\n",
       "      <td>7:33:36</td>\n",
       "      <td>...</td>\n",
       "      <td>20:03:36</td>\n",
       "      <td>20:18:36</td>\n",
       "      <td>20:38:36</td>\n",
       "      <td>20:58:36</td>\n",
       "      <td>21:18:36</td>\n",
       "      <td>21:38:36</td>\n",
       "      <td>21:58:36</td>\n",
       "      <td>22:16:56</td>\n",
       "      <td>22:36:56</td>\n",
       "      <td>22:59:56</td>\n",
       "    </tr>\n",
       "    <tr>\n",
       "      <th>2</th>\n",
       "      <td>Menilik II Square T22705</td>\n",
       "      <td>NS27</td>\n",
       "      <td>Departure</td>\n",
       "      <td>5:59:00</td>\n",
       "      <td>6:14:00</td>\n",
       "      <td>6:29:00</td>\n",
       "      <td>6:44:00</td>\n",
       "      <td>7:05:00</td>\n",
       "      <td>7:20:00</td>\n",
       "      <td>7:35:00</td>\n",
       "      <td>...</td>\n",
       "      <td>20:05:00</td>\n",
       "      <td>20:20:00</td>\n",
       "      <td>20:40:00</td>\n",
       "      <td>21:00:00</td>\n",
       "      <td>21:20:00</td>\n",
       "      <td>21:40:00</td>\n",
       "      <td>22:00:00</td>\n",
       "      <td>22:16:50</td>\n",
       "      <td>22:36:56</td>\n",
       "      <td>22:59:56</td>\n",
       "    </tr>\n",
       "    <tr>\n",
       "      <th>3</th>\n",
       "      <td>Atikilt Tera</td>\n",
       "      <td>NS26</td>\n",
       "      <td>Arrival</td>\n",
       "      <td>6:01:42</td>\n",
       "      <td>6:16:42</td>\n",
       "      <td>6:31:42</td>\n",
       "      <td>6:46:42</td>\n",
       "      <td>7:07:42</td>\n",
       "      <td>7:22:42</td>\n",
       "      <td>7:37:42</td>\n",
       "      <td>...</td>\n",
       "      <td>20:07:42</td>\n",
       "      <td>20:22:42</td>\n",
       "      <td>20:42:42</td>\n",
       "      <td>21:02:42</td>\n",
       "      <td>21:22:42</td>\n",
       "      <td>21:42:42</td>\n",
       "      <td>22:02:42</td>\n",
       "      <td>NaN</td>\n",
       "      <td>NaN</td>\n",
       "      <td>NaN</td>\n",
       "    </tr>\n",
       "    <tr>\n",
       "      <th>4</th>\n",
       "      <td>Atikilt Tera</td>\n",
       "      <td>NS26</td>\n",
       "      <td>Departure</td>\n",
       "      <td>6:02:12</td>\n",
       "      <td>6:17:12</td>\n",
       "      <td>6:32:12</td>\n",
       "      <td>6:47:12</td>\n",
       "      <td>7:08:12</td>\n",
       "      <td>7:23:12</td>\n",
       "      <td>7:38:12</td>\n",
       "      <td>...</td>\n",
       "      <td>20:08:12</td>\n",
       "      <td>20:23:12</td>\n",
       "      <td>20:43:12</td>\n",
       "      <td>21:03:12</td>\n",
       "      <td>21:23:12</td>\n",
       "      <td>21:43:12</td>\n",
       "      <td>22:03:12</td>\n",
       "      <td>NaN</td>\n",
       "      <td>NaN</td>\n",
       "      <td>NaN</td>\n",
       "    </tr>\n",
       "  </tbody>\n",
       "</table>\n",
       "<p>5 rows × 73 columns</p>\n",
       "</div>"
      ],
      "text/plain": [
       "                  Stations  Stations .1 Train times    20101    20201  \\\n",
       "0  Menilik II Square T22702        NS27  Returning   5:57:00  6:12:00   \n",
       "1  Menilik II Square T22705        NS27     Arrival  5:57:36  6:12:36   \n",
       "2  Menilik II Square T22705        NS27  Departure   5:59:00  6:14:00   \n",
       "3            Atikilt Tera          NS26     Arrival  6:01:42  6:16:42   \n",
       "4            Atikilt Tera          NS26  Departure   6:02:12  6:17:12   \n",
       "\n",
       "     20301    20401    20501    20601    20701  ...     20115     20215  \\\n",
       "0  6:27:00  6:42:00  7:03:00  7:18:00  7:33:00  ...  20:03:00  20:18:00   \n",
       "1  6:27:36  6:42:36  7:03:36  7:18:36  7:33:36  ...  20:03:36  20:18:36   \n",
       "2  6:29:00  6:44:00  7:05:00  7:20:00  7:35:00  ...  20:05:00  20:20:00   \n",
       "3  6:31:42  6:46:42  7:07:42  7:22:42  7:37:42  ...  20:07:42  20:22:42   \n",
       "4  6:32:12  6:47:12  7:08:12  7:23:12  7:38:12  ...  20:08:12  20:23:12   \n",
       "\n",
       "      20315     20415     20615     20715     20815     20217     20317  \\\n",
       "0  20:38:00  20:58:00  21:18:00  21:38:00  21:58:00  22:16:20  22:36:20   \n",
       "1  20:38:36  20:58:36  21:18:36  21:38:36  21:58:36  22:16:56  22:36:56   \n",
       "2  20:40:00  21:00:00  21:20:00  21:40:00  22:00:00  22:16:50  22:36:56   \n",
       "3  20:42:42  21:02:42  21:22:42  21:42:42  22:02:42       NaN       NaN   \n",
       "4  20:43:12  21:03:12  21:23:12  21:43:12  22:03:12       NaN       NaN   \n",
       "\n",
       "      20417  \n",
       "0  22:59:20  \n",
       "1  22:59:56  \n",
       "2  22:59:56  \n",
       "3       NaN  \n",
       "4       NaN  \n",
       "\n",
       "[5 rows x 73 columns]"
      ]
     },
     "execution_count": 239,
     "metadata": {},
     "output_type": "execute_result"
    }
   ],
   "source": [
    "df.head()"
   ]
  },
  {
   "cell_type": "code",
   "execution_count": 240,
   "id": "2a175782",
   "metadata": {},
   "outputs": [],
   "source": [
    "# drop rows Train times = \"Returning\" \n",
    "df = df[df['Train times'] != 'Returning']"
   ]
  },
  {
   "cell_type": "code",
   "execution_count": 241,
   "id": "0bbde86e",
   "metadata": {},
   "outputs": [
    {
     "name": "stdout",
     "output_type": "stream",
     "text": [
      "--- Shape ---\n",
      "(46, 73)\n",
      "\n",
      "--- Info ---\n",
      "<class 'pandas.core.frame.DataFrame'>\n",
      "RangeIndex: 46 entries, 0 to 45\n",
      "Data columns (total 73 columns):\n",
      " #   Column       Non-Null Count  Dtype \n",
      "---  ------       --------------  ----- \n",
      " 0   Stations     46 non-null     object\n",
      " 1   Stations .1  46 non-null     object\n",
      " 2   Train times  46 non-null     object\n",
      " 3   20101        46 non-null     object\n",
      " 4   20201        46 non-null     object\n",
      " 5   20301        46 non-null     object\n",
      " 6   20401        46 non-null     object\n",
      " 7   20501        46 non-null     object\n",
      " 8   20601        46 non-null     object\n",
      " 9   20701        46 non-null     object\n",
      " 10  20801        46 non-null     object\n",
      " 11  20901        46 non-null     object\n",
      " 12  20103        46 non-null     object\n",
      " 13  20203        46 non-null     object\n",
      " 14  20303        46 non-null     object\n",
      " 15  20403        46 non-null     object\n",
      " 16  20503        46 non-null     object\n",
      " 17  20603        46 non-null     object\n",
      " 18  20703        46 non-null     object\n",
      " 19  20803        46 non-null     object\n",
      " 20  20903        45 non-null     object\n",
      " 21  20105        46 non-null     object\n",
      " 22  20205        46 non-null     object\n",
      " 23  20305        46 non-null     object\n",
      " 24  20405        46 non-null     object\n",
      " 25  20505        46 non-null     object\n",
      " 26  20605        46 non-null     object\n",
      " 27  20705        46 non-null     object\n",
      " 28  20805        46 non-null     object\n",
      " 29  20107        46 non-null     object\n",
      " 30  20207        46 non-null     object\n",
      " 31  20307        46 non-null     object\n",
      " 32  20407        46 non-null     object\n",
      " 33  20507        46 non-null     object\n",
      " 34  20607        46 non-null     object\n",
      " 35  20707        46 non-null     object\n",
      " 36  20807        46 non-null     object\n",
      " 37  20109        46 non-null     object\n",
      " 38  20209        46 non-null     object\n",
      " 39  20309        46 non-null     object\n",
      " 40  20409        46 non-null     object\n",
      " 41  20509        46 non-null     object\n",
      " 42  20609        46 non-null     object\n",
      " 43  20709        46 non-null     object\n",
      " 44  20809        46 non-null     object\n",
      " 45  20111        46 non-null     object\n",
      " 46  20211        46 non-null     object\n",
      " 47  20311        46 non-null     object\n",
      " 48  20411        46 non-null     object\n",
      " 49  20511        46 non-null     object\n",
      " 50  20611        46 non-null     object\n",
      " 51  21001        46 non-null     object\n",
      " 52  20711        46 non-null     object\n",
      " 53  20811        46 non-null     object\n",
      " 54  20113        46 non-null     object\n",
      " 55  20213        46 non-null     object\n",
      " 56  20313        46 non-null     object\n",
      " 57  20413        46 non-null     object\n",
      " 58  20513        45 non-null     object\n",
      " 59  20613        46 non-null     object\n",
      " 60  21003        45 non-null     object\n",
      " 61  20713        46 non-null     object\n",
      " 62  20813        46 non-null     object\n",
      " 63  20115        45 non-null     object\n",
      " 64  20215        46 non-null     object\n",
      " 65  20315        46 non-null     object\n",
      " 66  20415        46 non-null     object\n",
      " 67  20615        45 non-null     object\n",
      " 68  20715        45 non-null     object\n",
      " 69  20815        45 non-null     object\n",
      " 70  20217        3 non-null      object\n",
      " 71  20317        3 non-null      object\n",
      " 72  20417        3 non-null      object\n",
      "dtypes: object(73)\n",
      "memory usage: 26.4+ KB\n",
      "\n",
      "--- Null Values ---\n",
      "Stations        0\n",
      "Stations .1     0\n",
      "Train times     0\n",
      "20101           0\n",
      "20201           0\n",
      "               ..\n",
      "20715           1\n",
      "20815           1\n",
      "20217          43\n",
      "20317          43\n",
      "20417          43\n",
      "Length: 73, dtype: int64\n",
      "\n",
      "--- Descriptive Statistics ---\n",
      "                       Stations  Stations .1 Train times    20101    20201  \\\n",
      "count                         46          46          46       46       46   \n",
      "unique                        24          22           3       46       46   \n",
      "top     Menilik II Square T22705        NS27     Arrival  5:57:00  6:12:00   \n",
      "freq                           2           3          22        1        1   \n",
      "\n",
      "          20301    20401    20501    20601    20701  ...     20115     20215  \\\n",
      "count        46       46       46       46       46  ...        45        46   \n",
      "unique       46       46       46       46       46  ...        45        46   \n",
      "top     6:27:00  6:42:00  7:03:00  7:18:00  7:33:00  ...  20:03:00  20:18:00   \n",
      "freq          1        1        1        1        1  ...         1         1   \n",
      "\n",
      "           20315     20415     20615     20715     20815     20217     20317  \\\n",
      "count         46        46        45        45        45         3         3   \n",
      "unique        46        46        45        45        45         3         2   \n",
      "top     20:38:00  20:58:00  21:18:00  21:38:00  21:58:00  22:16:20  22:36:56   \n",
      "freq           1         1         1         1         1         1         2   \n",
      "\n",
      "           20417  \n",
      "count          3  \n",
      "unique         2  \n",
      "top     22:59:56  \n",
      "freq           2  \n",
      "\n",
      "[4 rows x 73 columns]\n"
     ]
    }
   ],
   "source": [
    "basic_checks(df)"
   ]
  },
  {
   "cell_type": "code",
   "execution_count": 242,
   "id": "de0442b2",
   "metadata": {},
   "outputs": [
    {
     "name": "stdout",
     "output_type": "stream",
     "text": [
      "Dropping columns with > 90.0% NaNs: ['20217', '20317', '20417']\n"
     ]
    }
   ],
   "source": [
    "import importlib\n",
    "import time_analysisss\n",
    "importlib.reload(time_analysisss)\n",
    "from time_analysisss import drop_high_nan_columns\n",
    "\n",
    "df = drop_high_nan_columns(df, threshold=0.9)\n"
   ]
  },
  {
   "cell_type": "code",
   "execution_count": 243,
   "id": "460a4a0f",
   "metadata": {},
   "outputs": [],
   "source": [
    "# raname columns for better readability\n",
    "df = df.rename(columns={'Stations .1': 'station_id'})\n",
    "df = df.rename(columns={'Train times': 'arrival_departure'})\n",
    "df = df.rename(columns={'Stations ': 'Stations'})\n",
    "\n"
   ]
  },
  {
   "cell_type": "code",
   "execution_count": 244,
   "id": "2eb7dae4",
   "metadata": {},
   "outputs": [
    {
     "name": "stdout",
     "output_type": "stream",
     "text": [
      "<class 'pandas.core.frame.DataFrame'>\n",
      "RangeIndex: 46 entries, 0 to 45\n",
      "Data columns (total 70 columns):\n",
      " #   Column             Non-Null Count  Dtype \n",
      "---  ------             --------------  ----- \n",
      " 0   Stations           46 non-null     object\n",
      " 1   station_id         46 non-null     object\n",
      " 2   arrival_departure  46 non-null     object\n",
      " 3   20101              46 non-null     object\n",
      " 4   20201              46 non-null     object\n",
      " 5   20301              46 non-null     object\n",
      " 6   20401              46 non-null     object\n",
      " 7   20501              46 non-null     object\n",
      " 8   20601              46 non-null     object\n",
      " 9   20701              46 non-null     object\n",
      " 10  20801              46 non-null     object\n",
      " 11  20901              46 non-null     object\n",
      " 12  20103              46 non-null     object\n",
      " 13  20203              46 non-null     object\n",
      " 14  20303              46 non-null     object\n",
      " 15  20403              46 non-null     object\n",
      " 16  20503              46 non-null     object\n",
      " 17  20603              46 non-null     object\n",
      " 18  20703              46 non-null     object\n",
      " 19  20803              46 non-null     object\n",
      " 20  20903              45 non-null     object\n",
      " 21  20105              46 non-null     object\n",
      " 22  20205              46 non-null     object\n",
      " 23  20305              46 non-null     object\n",
      " 24  20405              46 non-null     object\n",
      " 25  20505              46 non-null     object\n",
      " 26  20605              46 non-null     object\n",
      " 27  20705              46 non-null     object\n",
      " 28  20805              46 non-null     object\n",
      " 29  20107              46 non-null     object\n",
      " 30  20207              46 non-null     object\n",
      " 31  20307              46 non-null     object\n",
      " 32  20407              46 non-null     object\n",
      " 33  20507              46 non-null     object\n",
      " 34  20607              46 non-null     object\n",
      " 35  20707              46 non-null     object\n",
      " 36  20807              46 non-null     object\n",
      " 37  20109              46 non-null     object\n",
      " 38  20209              46 non-null     object\n",
      " 39  20309              46 non-null     object\n",
      " 40  20409              46 non-null     object\n",
      " 41  20509              46 non-null     object\n",
      " 42  20609              46 non-null     object\n",
      " 43  20709              46 non-null     object\n",
      " 44  20809              46 non-null     object\n",
      " 45  20111              46 non-null     object\n",
      " 46  20211              46 non-null     object\n",
      " 47  20311              46 non-null     object\n",
      " 48  20411              46 non-null     object\n",
      " 49  20511              46 non-null     object\n",
      " 50  20611              46 non-null     object\n",
      " 51  21001              46 non-null     object\n",
      " 52  20711              46 non-null     object\n",
      " 53  20811              46 non-null     object\n",
      " 54  20113              46 non-null     object\n",
      " 55  20213              46 non-null     object\n",
      " 56  20313              46 non-null     object\n",
      " 57  20413              46 non-null     object\n",
      " 58  20513              45 non-null     object\n",
      " 59  20613              46 non-null     object\n",
      " 60  21003              45 non-null     object\n",
      " 61  20713              46 non-null     object\n",
      " 62  20813              46 non-null     object\n",
      " 63  20115              45 non-null     object\n",
      " 64  20215              46 non-null     object\n",
      " 65  20315              46 non-null     object\n",
      " 66  20415              46 non-null     object\n",
      " 67  20615              45 non-null     object\n",
      " 68  20715              45 non-null     object\n",
      " 69  20815              45 non-null     object\n",
      "dtypes: object(70)\n",
      "memory usage: 25.3+ KB\n"
     ]
    }
   ],
   "source": [
    "df.info()"
   ]
  },
  {
   "cell_type": "code",
   "execution_count": 245,
   "id": "73c26047",
   "metadata": {},
   "outputs": [
    {
     "name": "stderr",
     "output_type": "stream",
     "text": [
      "c:\\Users\\nebiy\\OneDrive\\Documents\\code\\Train-Passenger-Flow-Analysis\\notebooks\\../scripts\\time_analysisss.py:34: UserWarning: Could not infer format, so each element will be parsed individually, falling back to `dateutil`. To ensure parsing is consistent and as-expected, please specify a format.\n",
      "  df_pivot['Arrival'] = pd.to_datetime(df_pivot['Arrival'], errors='coerce')\n",
      "c:\\Users\\nebiy\\OneDrive\\Documents\\code\\Train-Passenger-Flow-Analysis\\notebooks\\../scripts\\time_analysisss.py:36: UserWarning: Could not infer format, so each element will be parsed individually, falling back to `dateutil`. To ensure parsing is consistent and as-expected, please specify a format.\n",
      "  df_pivot['Departure'] = pd.to_datetime(df_pivot['Departure'], errors='coerce')\n"
     ]
    }
   ],
   "source": [
    "import importlib\n",
    "import time_analysisss\n",
    "importlib.reload(time_analysisss)\n",
    "from time_analysisss import melt_and_pivot_train_schedule\n",
    "\n",
    "df_pivot = melt_and_pivot_train_schedule(df)\n",
    "\n"
   ]
  },
  {
   "cell_type": "code",
   "execution_count": 246,
   "id": "acae44c6",
   "metadata": {},
   "outputs": [
    {
     "name": "stdout",
     "output_type": "stream",
     "text": [
      "<class 'pandas.core.frame.DataFrame'>\n",
      "RangeIndex: 1601 entries, 0 to 1600\n",
      "Data columns (total 5 columns):\n",
      " #   Column      Non-Null Count  Dtype         \n",
      "---  ------      --------------  -----         \n",
      " 0   Stations    1601 non-null   object        \n",
      " 1   station_id  1601 non-null   object        \n",
      " 2   train_id    1601 non-null   object        \n",
      " 3   Arrival     1541 non-null   datetime64[ns]\n",
      " 4   Departure   1534 non-null   datetime64[ns]\n",
      "dtypes: datetime64[ns](2), object(3)\n",
      "memory usage: 62.7+ KB\n"
     ]
    }
   ],
   "source": [
    "df_pivot.info()"
   ]
  },
  {
   "cell_type": "code",
   "execution_count": 248,
   "id": "458a5344",
   "metadata": {},
   "outputs": [
    {
     "name": "stdout",
     "output_type": "stream",
     "text": [
      "arrival_departure                  Stations station_id train_id  \\\n",
      "536                           Kality T20623        NS6    20101   \n",
      "537                           Kality T20623        NS6    20103   \n",
      "538                           Kality T20623        NS6    20105   \n",
      "539                           Kality T20623        NS6    20107   \n",
      "540                           Kality T20623        NS6    20109   \n",
      "..                                      ...        ...      ...   \n",
      "792                Menilik II Square T22702       NS27    20815   \n",
      "793                Menilik II Square T22702       NS27    20901   \n",
      "794                Menilik II Square T22702       NS27    20903   \n",
      "795                Menilik II Square T22702       NS27    21001   \n",
      "796                Menilik II Square T22702       NS27    21003   \n",
      "\n",
      "arrival_departure             Arrival           Departure  \n",
      "536                               NaT 2025-07-30 06:50:34  \n",
      "537                               NaT 2025-07-30 08:56:34  \n",
      "538                               NaT 2025-07-30 10:56:34  \n",
      "539                               NaT 2025-07-30 12:56:34  \n",
      "540                               NaT 2025-07-30 14:56:35  \n",
      "..                                ...                 ...  \n",
      "792               2025-07-30 21:58:00                 NaT  \n",
      "793               2025-07-30 07:57:00                 NaT  \n",
      "794               2025-07-30 09:57:00                 NaT  \n",
      "795               2025-07-30 17:25:00                 NaT  \n",
      "796               2025-07-30 19:25:00                 NaT  \n",
      "\n",
      "[127 rows x 5 columns]\n"
     ]
    }
   ],
   "source": [
    "# Print rows with NaNs in Arrival or Departure\n",
    "print(df_pivot[df_pivot['Arrival'].isna() | df_pivot['Departure'].isna()])\n",
    "\n",
    "# Replace NaNs with 0\n"
   ]
  },
  {
   "cell_type": "code",
   "execution_count": 249,
   "id": "a41e926f",
   "metadata": {},
   "outputs": [],
   "source": [
    "import importlib\n",
    "import time_analysisss\n",
    "importlib.reload(time_analysisss)\n",
    "from time_analysisss import fill_missing_times_with_station_avg\n",
    "\n",
    "df_pivot = fill_missing_times_with_station_avg(df_pivot)\n"
   ]
  },
  {
   "cell_type": "code",
   "execution_count": 250,
   "id": "1d3b4fce",
   "metadata": {},
   "outputs": [],
   "source": [
    "import importlib\n",
    "import time_analysisss\n",
    "importlib.reload(time_analysisss)\n",
    "from time_analysisss import calculate_dwell_time\n",
    "df_pivot = calculate_dwell_time(df_pivot)\n"
   ]
  },
  {
   "cell_type": "code",
   "execution_count": 251,
   "id": "3993f994",
   "metadata": {},
   "outputs": [
    {
     "name": "stdout",
     "output_type": "stream",
     "text": [
      "--- Shape ---\n",
      "(1601, 6)\n",
      "\n",
      "--- Info ---\n",
      "<class 'pandas.core.frame.DataFrame'>\n",
      "RangeIndex: 1601 entries, 0 to 1600\n",
      "Data columns (total 6 columns):\n",
      " #   Column      Non-Null Count  Dtype          \n",
      "---  ------      --------------  -----          \n",
      " 0   Stations    1601 non-null   object         \n",
      " 1   station_id  1601 non-null   object         \n",
      " 2   train_id    1601 non-null   object         \n",
      " 3   Arrival     1601 non-null   datetime64[ns] \n",
      " 4   Departure   1601 non-null   datetime64[ns] \n",
      " 5   Dwell Time  1601 non-null   timedelta64[ns]\n",
      "dtypes: datetime64[ns](2), object(3), timedelta64[ns](1)\n",
      "memory usage: 75.2+ KB\n",
      "\n",
      "--- Null Values ---\n",
      "arrival_departure\n",
      "Stations      0\n",
      "station_id    0\n",
      "train_id      0\n",
      "Arrival       0\n",
      "Departure     0\n",
      "Dwell Time    0\n",
      "dtype: int64\n",
      "\n",
      "--- Descriptive Statistics ---\n",
      "arrival_departure                        Arrival  \\\n",
      "count                                       1601   \n",
      "mean               2025-07-30 14:04:37.360036352   \n",
      "min                          2025-07-30 05:57:00   \n",
      "25%                          2025-07-30 10:12:10   \n",
      "50%                          2025-07-30 13:51:53   \n",
      "75%                          2025-07-30 17:55:13   \n",
      "max                          2025-07-30 22:50:22   \n",
      "std                                          NaN   \n",
      "\n",
      "arrival_departure                      Departure                 Dwell Time  \n",
      "count                                       1601                       1601  \n",
      "mean               2025-07-30 14:23:33.445598464  0 days 00:18:56.085562195  \n",
      "min                          2025-07-30 05:59:00  0 days 00:00:22.402984960  \n",
      "25%                          2025-07-30 10:30:21            0 days 00:00:25  \n",
      "50%                          2025-07-30 14:33:38            0 days 00:00:30  \n",
      "75%                          2025-07-30 18:10:52            0 days 00:00:30  \n",
      "max                          2025-07-30 22:50:52  0 days 08:09:03.402984960  \n",
      "std                                          NaN  0 days 01:13:14.425675345  \n"
     ]
    }
   ],
   "source": [
    "basic_checks(df_pivot)"
   ]
  },
  {
   "cell_type": "code",
   "execution_count": 252,
   "id": "92767edc",
   "metadata": {},
   "outputs": [
    {
     "name": "stdout",
     "output_type": "stream",
     "text": [
      "arrival_departure\n",
      "Stations      0.0\n",
      "station_id    0.0\n",
      "train_id      0.0\n",
      "Arrival       0.0\n",
      "Departure     0.0\n",
      "Dwell Time    0.0\n",
      "dtype: float64\n"
     ]
    }
   ],
   "source": [
    "import importlib\n",
    "import time_analysisss\n",
    "importlib.reload(time_analysisss)\n",
    "from time_analysisss import check_null\n",
    "check_null(df_pivot)"
   ]
  },
  {
   "cell_type": "code",
   "execution_count": 253,
   "id": "87330ceb",
   "metadata": {},
   "outputs": [
    {
     "name": "stdout",
     "output_type": "stream",
     "text": [
      "Computed station gap stats:"
     ]
    },
    {
     "name": "stdout",
     "output_type": "stream",
     "text": [
      "\n",
      "                    Stations    Avg_Gap  Min_Gap  Max_Gap   Gap_Std\n",
      "11  Menilik II Square T22702   7.150656      0.0     21.0  7.443310\n",
      "8              Kality T20623   7.977005      0.0     21.0  7.563769\n",
      "0                      Abnet  14.560606      6.0     21.0  3.059054\n",
      "1                        Abo  14.560606      6.0     21.0  3.059054\n",
      "4               Autobus Tera  14.560606      6.0     21.0  3.059054\n"
     ]
    }
   ],
   "source": [
    "import importlib\n",
    "import time_analysisss\n",
    "importlib.reload(time_analysisss)\n",
    "from time_analysisss import compute_station_gap_stats\n",
    "\n",
    "station_stats = compute_station_gap_stats(df_pivot)"
   ]
  },
  {
   "cell_type": "code",
   "execution_count": 254,
   "id": "1ddffaac",
   "metadata": {},
   "outputs": [
    {
     "data": {
      "text/plain": [
       "0      0 days 00:00:25\n",
       "1      0 days 00:00:25\n",
       "2      0 days 00:00:25\n",
       "3      0 days 00:00:25\n",
       "4      0 days 00:00:25\n",
       "             ...      \n",
       "1596   0 days 00:00:25\n",
       "1597   0 days 00:00:25\n",
       "1598   0 days 00:00:25\n",
       "1599   0 days 00:00:25\n",
       "1600   0 days 00:00:25\n",
       "Name: Dwell Time, Length: 1601, dtype: timedelta64[ns]"
      ]
     },
     "execution_count": 254,
     "metadata": {},
     "output_type": "execute_result"
    }
   ],
   "source": [
    "df_pivot[\"Dwell Time\"]"
   ]
  },
  {
   "cell_type": "code",
   "execution_count": 255,
   "id": "a93eacd6",
   "metadata": {},
   "outputs": [
    {
     "data": {
      "image/png": "[encoded data removed]",
      "text/plain": [
       "<Figure size 1200x600 with 1 Axes>"
      ]
     },
     "metadata": {},
     "output_type": "display_data"
    },
    {
     "data": {
      "image/png": "[encoded data removed]",
      "text/plain": [
       "<Figure size 1200x600 with 1 Axes>"
      ]
     },
     "metadata": {},
     "output_type": "display_data"
    },
    {
     "data": {
      "image/png": "[encoded data removed]",
      "text/plain": [
       "<Figure size 1000x500 with 1 Axes>"
      ]
     },
     "metadata": {},
     "output_type": "display_data"
    },
    {
     "data": {
      "image/png": "[encoded data removed]",
      "text/plain": [
       "<Figure size 1000x500 with 1 Axes>"
      ]
     },
     "metadata": {},
     "output_type": "display_data"
    }
   ],
   "source": [
    "import importlib\n",
    "import plot_utils  # This must succeed; make sure plot_utils.py is in the same directory or in PYTHONPATH\n",
    "\n",
    "importlib.reload(plot_utils)\n",
    "\n",
    "plot_utils.plot_avg_arrival_gap(station_stats)\n",
    "plot_utils.plot_top_avg_gaps(station_stats)\n",
    "plot_utils.plot_dwell_time_extremes(df_pivot)\n"
   ]
  },
  {
   "cell_type": "code",
   "execution_count": 256,
   "id": "d0153f88",
   "metadata": {},
   "outputs": [
    {
     "data": {
      "text/plain": [
       "Index(['Stations', 'station_id', 'train_id', 'Arrival', 'Departure',\n",
       "       'Dwell Time'],\n",
       "      dtype='object', name='arrival_departure')"
      ]
     },
     "execution_count": 256,
     "metadata": {},
     "output_type": "execute_result"
    }
   ],
   "source": [
    "df_pivot.columns"
   ]
  },
  {
   "cell_type": "code",
   "execution_count": 266,
   "id": "c55f23b6",
   "metadata": {},
   "outputs": [
    {
     "data": {
      "text/html": [
       "<div>\n",
       "<style scoped>\n",
       "    .dataframe tbody tr th:only-of-type {\n",
       "        vertical-align: middle;\n",
       "    }\n",
       "\n",
       "    .dataframe tbody tr th {\n",
       "        vertical-align: top;\n",
       "    }\n",
       "\n",
       "    .dataframe thead th {\n",
       "        text-align: right;\n",
       "    }\n",
       "</style>\n",
       "<table border=\"1\" class=\"dataframe\">\n",
       "  <thead>\n",
       "    <tr style=\"text-align: right;\">\n",
       "      <th></th>\n",
       "      <th>station_id</th>\n",
       "      <th>Average Dwell Time</th>\n",
       "    </tr>\n",
       "  </thead>\n",
       "  <tbody>\n",
       "    <tr>\n",
       "      <th>0</th>\n",
       "      <td>NS10</td>\n",
       "      <td>0 days 00:00:35</td>\n",
       "    </tr>\n",
       "    <tr>\n",
       "      <th>1</th>\n",
       "      <td>NS11</td>\n",
       "      <td>0 days 00:00:30</td>\n",
       "    </tr>\n",
       "    <tr>\n",
       "      <th>2</th>\n",
       "      <td>NS12</td>\n",
       "      <td>0 days 00:00:25</td>\n",
       "    </tr>\n",
       "    <tr>\n",
       "      <th>3</th>\n",
       "      <td>NS13</td>\n",
       "      <td>0 days 00:00:25</td>\n",
       "    </tr>\n",
       "    <tr>\n",
       "      <th>4</th>\n",
       "      <td>NS14</td>\n",
       "      <td>0 days 00:00:25</td>\n",
       "    </tr>\n",
       "    <tr>\n",
       "      <th>5</th>\n",
       "      <td>NS15</td>\n",
       "      <td>0 days 00:00:25</td>\n",
       "    </tr>\n",
       "    <tr>\n",
       "      <th>6</th>\n",
       "      <td>NS16</td>\n",
       "      <td>0 days 00:00:30</td>\n",
       "    </tr>\n",
       "    <tr>\n",
       "      <th>7</th>\n",
       "      <td>NS17</td>\n",
       "      <td>0 days 00:00:30</td>\n",
       "    </tr>\n",
       "    <tr>\n",
       "      <th>8</th>\n",
       "      <td>NS18</td>\n",
       "      <td>0 days 00:00:30</td>\n",
       "    </tr>\n",
       "    <tr>\n",
       "      <th>9</th>\n",
       "      <td>NS19</td>\n",
       "      <td>0 days 00:00:30</td>\n",
       "    </tr>\n",
       "    <tr>\n",
       "      <th>10</th>\n",
       "      <td>NS20</td>\n",
       "      <td>0 days 00:00:30</td>\n",
       "    </tr>\n",
       "    <tr>\n",
       "      <th>11</th>\n",
       "      <td>NS21</td>\n",
       "      <td>0 days 00:00:25</td>\n",
       "    </tr>\n",
       "    <tr>\n",
       "      <th>12</th>\n",
       "      <td>NS22</td>\n",
       "      <td>0 days 00:00:25</td>\n",
       "    </tr>\n",
       "    <tr>\n",
       "      <th>13</th>\n",
       "      <td>NS23</td>\n",
       "      <td>0 days 00:00:25</td>\n",
       "    </tr>\n",
       "    <tr>\n",
       "      <th>14</th>\n",
       "      <td>NS24</td>\n",
       "      <td>0 days 00:00:30</td>\n",
       "    </tr>\n",
       "    <tr>\n",
       "      <th>15</th>\n",
       "      <td>NS25</td>\n",
       "      <td>0 days 00:00:30</td>\n",
       "    </tr>\n",
       "    <tr>\n",
       "      <th>16</th>\n",
       "      <td>NS26</td>\n",
       "      <td>0 days 00:00:30</td>\n",
       "    </tr>\n",
       "    <tr>\n",
       "      <th>17</th>\n",
       "      <td>NS27</td>\n",
       "      <td>0 days 00:01:23.597014927</td>\n",
       "    </tr>\n",
       "    <tr>\n",
       "      <th>18</th>\n",
       "      <td>NS6</td>\n",
       "      <td>0 days 00:00:29.888279190</td>\n",
       "    </tr>\n",
       "    <tr>\n",
       "      <th>19</th>\n",
       "      <td>NS7</td>\n",
       "      <td>0 days 00:00:25</td>\n",
       "    </tr>\n",
       "    <tr>\n",
       "      <th>20</th>\n",
       "      <td>NS8</td>\n",
       "      <td>0 days 00:00:25</td>\n",
       "    </tr>\n",
       "    <tr>\n",
       "      <th>21</th>\n",
       "      <td>NS9</td>\n",
       "      <td>0 days 00:00:30</td>\n",
       "    </tr>\n",
       "  </tbody>\n",
       "</table>\n",
       "</div>"
      ],
      "text/plain": [
       "   station_id        Average Dwell Time\n",
       "0        NS10           0 days 00:00:35\n",
       "1        NS11           0 days 00:00:30\n",
       "2        NS12           0 days 00:00:25\n",
       "3        NS13           0 days 00:00:25\n",
       "4        NS14           0 days 00:00:25\n",
       "5        NS15           0 days 00:00:25\n",
       "6        NS16           0 days 00:00:30\n",
       "7        NS17           0 days 00:00:30\n",
       "8        NS18           0 days 00:00:30\n",
       "9        NS19           0 days 00:00:30\n",
       "10       NS20           0 days 00:00:30\n",
       "11       NS21           0 days 00:00:25\n",
       "12       NS22           0 days 00:00:25\n",
       "13       NS23           0 days 00:00:25\n",
       "14       NS24           0 days 00:00:30\n",
       "15       NS25           0 days 00:00:30\n",
       "16       NS26           0 days 00:00:30\n",
       "17       NS27 0 days 00:01:23.597014927\n",
       "18        NS6 0 days 00:00:29.888279190\n",
       "19        NS7           0 days 00:00:25\n",
       "20        NS8           0 days 00:00:25\n",
       "21        NS9           0 days 00:00:30"
      ]
     },
     "execution_count": 266,
     "metadata": {},
     "output_type": "execute_result"
    }
   ],
   "source": [
    "# a new dataframe with the stations,station_id and the average dwell time\n",
    "avg_dwell_time = df_pivot.groupby('station_id')['Dwell Time'].mean().reset_index()\n",
    "avg_dwell_time = avg_dwell_time.rename(columns={'Dwell Time': 'Average Dwell Time'})\n",
    "avg_dwell_time.head(50)"
   ]
  },
  {
   "cell_type": "code",
   "execution_count": null,
   "id": "c6f9ae6c",
   "metadata": {},
   "outputs": [],
   "source": []
  },
  {
   "cell_type": "code",
   "execution_count": 258,
   "id": "5e8906e0",
   "metadata": {},
   "outputs": [
    {
     "name": "stdout",
     "output_type": "stream",
     "text": [
      "timedelta64[ns]\n"
     ]
    }
   ],
   "source": [
    "print(df_pivot['Dwell Time'].dtype)\n",
    "#print only Stations and dwell ime with dwell time greater than 10 minutes\n",
    "#print(df_pivot[df_pivot['Dwell Time'] > pd.Timedelta(minutes=10)][[\"Stations\",\"Dwell Time\"]])\n",
    "# update these rows with mean of the station with out dwell time greater than 10 minutes\n",
    "df_pivot.loc[df_pivot['Dwell Time'] > pd.Timedelta(minutes=10), 'Dwell Time'] = avg_dwell_time['Average Dwell Time']\n",
    "#df_pivot.head(50)"
   ]
  },
  {
   "cell_type": "code",
   "execution_count": 265,
   "id": "b610bda7",
   "metadata": {},
   "outputs": [
    {
     "name": "stdout",
     "output_type": "stream",
     "text": [
      "Empty DataFrame\n",
      "Columns: [Stations, Dwell Time]\n",
      "Index: []\n"
     ]
    }
   ],
   "source": [
    "print(df_pivot[df_pivot['Dwell Time'] > pd.Timedelta(minutes=10)][[\"Stations\",\"Dwell Time\"]])\n"
   ]
  },
  {
   "cell_type": "code",
   "execution_count": 260,
   "id": "a24a8da0",
   "metadata": {},
   "outputs": [
    {
     "name": "stdout",
     "output_type": "stream",
     "text": [
      "Empty DataFrame\n",
      "Columns: [Stations, station_id, train_id, Arrival, Departure, Dwell Time]\n",
      "Index: []\n"
     ]
    }
   ],
   "source": [
    "#print rows of the station Kality\n",
    "print(df_pivot[df_pivot['Stations'] == 'Kality '])"
   ]
  },
  {
   "cell_type": "code",
   "execution_count": 261,
   "id": "c85771f0",
   "metadata": {},
   "outputs": [
    {
     "data": {
      "text/html": [
       "<div>\n",
       "<style scoped>\n",
       "    .dataframe tbody tr th:only-of-type {\n",
       "        vertical-align: middle;\n",
       "    }\n",
       "\n",
       "    .dataframe tbody tr th {\n",
       "        vertical-align: top;\n",
       "    }\n",
       "\n",
       "    .dataframe thead th {\n",
       "        text-align: right;\n",
       "    }\n",
       "</style>\n",
       "<table border=\"1\" class=\"dataframe\">\n",
       "  <thead>\n",
       "    <tr style=\"text-align: right;\">\n",
       "      <th></th>\n",
       "      <th>station_id</th>\n",
       "      <th>Average Dwell Time</th>\n",
       "    </tr>\n",
       "  </thead>\n",
       "  <tbody>\n",
       "    <tr>\n",
       "      <th>0</th>\n",
       "      <td>NS10</td>\n",
       "      <td>0 days 00:00:35</td>\n",
       "    </tr>\n",
       "    <tr>\n",
       "      <th>1</th>\n",
       "      <td>NS11</td>\n",
       "      <td>0 days 00:00:30</td>\n",
       "    </tr>\n",
       "    <tr>\n",
       "      <th>2</th>\n",
       "      <td>NS12</td>\n",
       "      <td>0 days 00:00:25</td>\n",
       "    </tr>\n",
       "    <tr>\n",
       "      <th>3</th>\n",
       "      <td>NS13</td>\n",
       "      <td>0 days 00:00:25</td>\n",
       "    </tr>\n",
       "    <tr>\n",
       "      <th>4</th>\n",
       "      <td>NS14</td>\n",
       "      <td>0 days 00:00:25</td>\n",
       "    </tr>\n",
       "  </tbody>\n",
       "</table>\n",
       "</div>"
      ],
      "text/plain": [
       "  station_id Average Dwell Time\n",
       "0       NS10    0 days 00:00:35\n",
       "1       NS11    0 days 00:00:30\n",
       "2       NS12    0 days 00:00:25\n",
       "3       NS13    0 days 00:00:25\n",
       "4       NS14    0 days 00:00:25"
      ]
     },
     "execution_count": 261,
     "metadata": {},
     "output_type": "execute_result"
    }
   ],
   "source": [
    "avg_dwell_time.head()"
   ]
  },
  {
   "cell_type": "code",
   "execution_count": 262,
   "id": "f3967bd7",
   "metadata": {},
   "outputs": [],
   "source": [
    "#save df_privot as csv\n",
    "df_pivot.to_csv('../data/processed/NS-time table for_processed_Downward.csv', index=False)"
   ]
  },
  {
   "cell_type": "code",
   "execution_count": 263,
   "id": "4a4d4a0c",
   "metadata": {},
   "outputs": [
    {
     "data": {
      "text/plain": [
       "Index(['Stations', 'station_id', 'train_id', 'Arrival', 'Departure',\n",
       "       'Dwell Time'],\n",
       "      dtype='object', name='arrival_departure')"
      ]
     },
     "execution_count": 263,
     "metadata": {},
     "output_type": "execute_result"
    }
   ],
   "source": [
    "df_pivot.columns"
   ]
  }
 ],
 "metadata": {
  "kernelspec": {
   "display_name": "venv",
   "language": "python",
   "name": "python3"
  },
  "language_info": {
   "codemirror_mode": {
    "name": "ipython",
    "version": 3
   },
   "file_extension": ".py",
   "mimetype": "text/x-python",
   "name": "python",
   "nbconvert_exporter": "python",
   "pygments_lexer": "ipython3",
   "version": "3.12.10"
  }
 },
 "nbformat": 4,
 "nbformat_minor": 5
}
