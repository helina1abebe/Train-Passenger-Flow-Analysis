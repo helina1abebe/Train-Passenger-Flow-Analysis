{
 "cells": [
  {
   "cell_type": "code",
   "execution_count": 56,
   "id": "e5a6739e",
   "metadata": {},
   "outputs": [],
   "source": [
    "import pandas as pd\n"
   ]
  },
  {
   "cell_type": "code",
   "execution_count": 57,
   "id": "563f36bc",
   "metadata": {},
   "outputs": [],
   "source": [
    "df = pd.read_csv('../data/raw/NS-time table for Upward.csv')"
   ]
  },
  {
   "cell_type": "code",
   "execution_count": 58,
   "id": "083bf861",
   "metadata": {},
   "outputs": [
    {
     "data": {
      "text/plain": [
       "Index(['Stations ', 'Stations_code ', 'Train times', '20502', '20602', '20702',\n",
       "       '20802', '20902', '20104', '20204', '20304', '20404', '20504', '20604',\n",
       "       '20704', '20804', '20904', '20106', '20206', '20306', '20406', '20506',\n",
       "       '20606', '20706', '20806', '20108', '20208', '20308', '20408', '20508',\n",
       "       '20608', '20708', '20808', '20110', '20210', '20310', '20410', '20510',\n",
       "       '20610', '20710', '20810', '20112', '20212', '20312', '20412', '20512',\n",
       "       '20612', '21002', '20712', '20812', '20114', '20214', '20314', '20414',\n",
       "       '20514', '20614', '21004', '20714', '20814', '20116', '20216', '20316',\n",
       "       '20416', '20616', '20716', '20816', '20218', '20318', '20418'],\n",
       "      dtype='object')"
      ]
     },
     "execution_count": 58,
     "metadata": {},
     "output_type": "execute_result"
    }
   ],
   "source": [
    "df.columns "
   ]
  },
  {
   "cell_type": "code",
   "execution_count": 59,
   "id": "0bbde86e",
   "metadata": {},
   "outputs": [
    {
     "data": {
      "text/html": [
       "<div>\n",
       "<style scoped>\n",
       "    .dataframe tbody tr th:only-of-type {\n",
       "        vertical-align: middle;\n",
       "    }\n",
       "\n",
       "    .dataframe tbody tr th {\n",
       "        vertical-align: top;\n",
       "    }\n",
       "\n",
       "    .dataframe thead th {\n",
       "        text-align: right;\n",
       "    }\n",
       "</style>\n",
       "<table border=\"1\" class=\"dataframe\">\n",
       "  <thead>\n",
       "    <tr style=\"text-align: right;\">\n",
       "      <th></th>\n",
       "      <th>Stations</th>\n",
       "      <th>Stations_code</th>\n",
       "      <th>Train times</th>\n",
       "      <th>20502</th>\n",
       "      <th>20602</th>\n",
       "      <th>20702</th>\n",
       "      <th>20802</th>\n",
       "      <th>20902</th>\n",
       "      <th>20104</th>\n",
       "      <th>20204</th>\n",
       "      <th>...</th>\n",
       "      <th>20116</th>\n",
       "      <th>20216</th>\n",
       "      <th>20316</th>\n",
       "      <th>20416</th>\n",
       "      <th>20616</th>\n",
       "      <th>20716</th>\n",
       "      <th>20816</th>\n",
       "      <th>20218</th>\n",
       "      <th>20318</th>\n",
       "      <th>20418</th>\n",
       "    </tr>\n",
       "  </thead>\n",
       "  <tbody>\n",
       "    <tr>\n",
       "      <th>0</th>\n",
       "      <td>Menilik II Square T22702</td>\n",
       "      <td>NS27</td>\n",
       "      <td>Returning</td>\n",
       "      <td>6:56:20</td>\n",
       "      <td>7:11:20</td>\n",
       "      <td>7:26:20</td>\n",
       "      <td>7:41:20</td>\n",
       "      <td>7:50:20</td>\n",
       "      <td>7:56:20</td>\n",
       "      <td>8:11:20</td>\n",
       "      <td>...</td>\n",
       "      <td>19:58:20</td>\n",
       "      <td>20:13:20</td>\n",
       "      <td>20:33:20</td>\n",
       "      <td>20:53:20</td>\n",
       "      <td>21:13:20</td>\n",
       "      <td>21:33:20</td>\n",
       "      <td>21:53:20</td>\n",
       "      <td>22:13:20</td>\n",
       "      <td>22:33:20</td>\n",
       "      <td>22:56:20</td>\n",
       "    </tr>\n",
       "    <tr>\n",
       "      <th>1</th>\n",
       "      <td>Menilik II Square T22706</td>\n",
       "      <td>NS27</td>\n",
       "      <td>Departure</td>\n",
       "      <td>6:55:32</td>\n",
       "      <td>7:10:32</td>\n",
       "      <td>7:25:32</td>\n",
       "      <td>7:40:32</td>\n",
       "      <td>7:49:32</td>\n",
       "      <td>7:55:32</td>\n",
       "      <td>8:10:32</td>\n",
       "      <td>...</td>\n",
       "      <td>19:57:32</td>\n",
       "      <td>20:12:32</td>\n",
       "      <td>20:32:32</td>\n",
       "      <td>20:52:32</td>\n",
       "      <td>21:12:32</td>\n",
       "      <td>21:32:32</td>\n",
       "      <td>21:52:32</td>\n",
       "      <td>22:12:32</td>\n",
       "      <td>22:32:32</td>\n",
       "      <td>22:55:32</td>\n",
       "    </tr>\n",
       "    <tr>\n",
       "      <th>2</th>\n",
       "      <td>Menilik II Square T22706</td>\n",
       "      <td>NS27</td>\n",
       "      <td>Arrival</td>\n",
       "      <td>6:54:57</td>\n",
       "      <td>7:09:57</td>\n",
       "      <td>7:24:57</td>\n",
       "      <td>7:39:57</td>\n",
       "      <td>7:48:57</td>\n",
       "      <td>7:54:57</td>\n",
       "      <td>8:09:57</td>\n",
       "      <td>...</td>\n",
       "      <td>19:56:57</td>\n",
       "      <td>20:11:57</td>\n",
       "      <td>20:31:57</td>\n",
       "      <td>20:51:57</td>\n",
       "      <td>21:11:57</td>\n",
       "      <td>21:31:57</td>\n",
       "      <td>21:51:57</td>\n",
       "      <td>22:11:57</td>\n",
       "      <td>22:31:57</td>\n",
       "      <td>22:54:57</td>\n",
       "    </tr>\n",
       "  </tbody>\n",
       "</table>\n",
       "<p>3 rows × 69 columns</p>\n",
       "</div>"
      ],
      "text/plain": [
       "                  Stations  Stations_code  Train times    20502    20602  \\\n",
       "0  Menilik II Square T22702           NS27  Returning   6:56:20  7:11:20   \n",
       "1  Menilik II Square T22706           NS27  Departure   6:55:32  7:10:32   \n",
       "2  Menilik II Square T22706           NS27     Arrival  6:54:57  7:09:57   \n",
       "\n",
       "     20702    20802    20902    20104    20204  ...     20116     20216  \\\n",
       "0  7:26:20  7:41:20  7:50:20  7:56:20  8:11:20  ...  19:58:20  20:13:20   \n",
       "1  7:25:32  7:40:32  7:49:32  7:55:32  8:10:32  ...  19:57:32  20:12:32   \n",
       "2  7:24:57  7:39:57  7:48:57  7:54:57  8:09:57  ...  19:56:57  20:11:57   \n",
       "\n",
       "      20316     20416     20616     20716     20816     20218     20318  \\\n",
       "0  20:33:20  20:53:20  21:13:20  21:33:20  21:53:20  22:13:20  22:33:20   \n",
       "1  20:32:32  20:52:32  21:12:32  21:32:32  21:52:32  22:12:32  22:32:32   \n",
       "2  20:31:57  20:51:57  21:11:57  21:31:57  21:51:57  22:11:57  22:31:57   \n",
       "\n",
       "      20418  \n",
       "0  22:56:20  \n",
       "1  22:55:32  \n",
       "2  22:54:57  \n",
       "\n",
       "[3 rows x 69 columns]"
      ]
     },
     "execution_count": 59,
     "metadata": {},
     "output_type": "execute_result"
    }
   ],
   "source": [
    "df.head(3)\n"
   ]
  },
  {
   "cell_type": "code",
   "execution_count": 60,
   "id": "de0442b2",
   "metadata": {},
   "outputs": [
    {
     "name": "stdout",
     "output_type": "stream",
     "text": [
      "Index([], dtype='object')\n"
     ]
    }
   ],
   "source": [
    "threshold = 0.9  # 50%\n",
    "nan_cols = df.columns[df.isna().mean() > threshold]\n",
    "print(nan_cols)\n",
    "#drop nan_cols\n",
    "df = df.drop(columns=nan_cols)\n"
   ]
  },
  {
   "cell_type": "code",
   "execution_count": 61,
   "id": "460a4a0f",
   "metadata": {},
   "outputs": [],
   "source": [
    "# raname columns for better readability\n",
    "df = df.rename(columns={'Stations_code ': 'station_id'})\n",
    "df = df.rename(columns={'Train times': 'arrival_departure'})\n",
    "df = df.rename(columns={'Stations ': 'Stations'})\n",
    "\n"
   ]
  },
  {
   "cell_type": "code",
   "execution_count": 62,
   "id": "73c26047",
   "metadata": {},
   "outputs": [
    {
     "name": "stdout",
     "output_type": "stream",
     "text": [
      "arrival_departure Stations station_id train_id             Arrival  \\\n",
      "0                    Abnet       NS22    20104 2025-07-25 07:41:43   \n",
      "1                    Abnet       NS22    20106 2025-07-25 09:43:43   \n",
      "2                    Abnet       NS22    20108 2025-07-25 11:43:43   \n",
      "3                    Abnet       NS22    20110 2025-07-25 13:43:43   \n",
      "4                    Abnet       NS22    20112 2025-07-25 15:43:43   \n",
      "\n",
      "arrival_departure           Departure Returning   \n",
      "0                 2025-07-25 07:42:08        NaN  \n",
      "1                 2025-07-25 09:44:08        NaN  \n",
      "2                 2025-07-25 11:44:08        NaN  \n",
      "3                 2025-07-25 13:44:08        NaN  \n",
      "4                 2025-07-25 15:44:08        NaN  \n"
     ]
    },
    {
     "name": "stderr",
     "output_type": "stream",
     "text": [
      "C:\\Users\\nebiy\\AppData\\Local\\Temp\\ipykernel_16116\\3484329245.py:23: UserWarning: Could not infer format, so each element will be parsed individually, falling back to `dateutil`. To ensure parsing is consistent and as-expected, please specify a format.\n",
      "  df_pivot['Arrival'] = pd.to_datetime(df_pivot['Arrival'], errors='coerce')\n",
      "C:\\Users\\nebiy\\AppData\\Local\\Temp\\ipykernel_16116\\3484329245.py:24: UserWarning: Could not infer format, so each element will be parsed individually, falling back to `dateutil`. To ensure parsing is consistent and as-expected, please specify a format.\n",
      "  df_pivot['Departure '] = pd.to_datetime(df_pivot['Departure '], errors='coerce')\n"
     ]
    }
   ],
   "source": [
    "import pandas as pd\n",
    "\n",
    "# Load data\n",
    "\n",
    "# Step 1: Add Arrival/Departure column based on row order\n",
    "df['arr_dep'] = ['Arrival' if i % 2 == 0 else 'Departure' for i in range(len(df))]\n",
    "\n",
    "# Step 2: Melt train columns\n",
    "id_vars = ['Stations', 'station_id', 'arrival_departure']\n",
    "value_vars = [col for col in df.columns if col not in id_vars]\n",
    "df_melted = df.melt(id_vars=id_vars, value_vars=value_vars,\n",
    "                    var_name='train_id', value_name='time')\n",
    "\n",
    "# Step 3: Pivot so we have Arrival & Departure per station/train\n",
    "df_pivot = df_melted.pivot_table(\n",
    "    index=['Stations', 'station_id', 'train_id'],\n",
    "    columns='arrival_departure',\n",
    "    values='time',\n",
    "    aggfunc='first'\n",
    ").reset_index()\n",
    "\n",
    "# Optional: parse time column to datetime\n",
    "df_pivot['Arrival'] = pd.to_datetime(df_pivot['Arrival'], errors='coerce')\n",
    "df_pivot['Departure '] = pd.to_datetime(df_pivot['Departure '], errors='coerce')\n",
    "df_pivot= df_pivot.rename(columns={'Departure ': 'Departure'})\n",
    "\n",
    "# Done\n",
    "print(df_pivot.head())\n"
   ]
  },
  {
   "cell_type": "code",
   "execution_count": 63,
   "id": "1d3b4fce",
   "metadata": {},
   "outputs": [],
   "source": [
    "df_pivot['Dwell_Time'] = df_pivot['Departure'] - df_pivot['Arrival']"
   ]
  },
  {
   "cell_type": "code",
   "execution_count": 64,
   "id": "5b3a0ce2",
   "metadata": {},
   "outputs": [],
   "source": [
    "df_pivot.sort_values(by=['Dwell_Time', 'Arrival'], inplace=True)\n"
   ]
  },
  {
   "cell_type": "code",
   "execution_count": 65,
   "id": "3993f994",
   "metadata": {},
   "outputs": [
    {
     "data": {
      "text/html": [
       "<div>\n",
       "<style scoped>\n",
       "    .dataframe tbody tr th:only-of-type {\n",
       "        vertical-align: middle;\n",
       "    }\n",
       "\n",
       "    .dataframe tbody tr th {\n",
       "        vertical-align: top;\n",
       "    }\n",
       "\n",
       "    .dataframe thead th {\n",
       "        text-align: right;\n",
       "    }\n",
       "</style>\n",
       "<table border=\"1\" class=\"dataframe\">\n",
       "  <thead>\n",
       "    <tr style=\"text-align: right;\">\n",
       "      <th>arrival_departure</th>\n",
       "      <th>Stations</th>\n",
       "      <th>station_id</th>\n",
       "      <th>train_id</th>\n",
       "      <th>Arrival</th>\n",
       "      <th>Departure</th>\n",
       "      <th>Returning</th>\n",
       "      <th>Dwell_Time</th>\n",
       "    </tr>\n",
       "  </thead>\n",
       "  <tbody>\n",
       "    <tr>\n",
       "      <th>98</th>\n",
       "      <td>Abo</td>\n",
       "      <td>NS7</td>\n",
       "      <td>20502</td>\n",
       "      <td>2025-07-25 06:03:04</td>\n",
       "      <td>2025-07-25 06:03:29</td>\n",
       "      <td>NaN</td>\n",
       "      <td>0 days 00:00:25</td>\n",
       "    </tr>\n",
       "    <tr>\n",
       "      <th>1170</th>\n",
       "      <td>Saris</td>\n",
       "      <td>NS8</td>\n",
       "      <td>20502</td>\n",
       "      <td>2025-07-25 06:06:22</td>\n",
       "      <td>2025-07-25 06:06:47</td>\n",
       "      <td>NaN</td>\n",
       "      <td>0 days 00:00:25</td>\n",
       "    </tr>\n",
       "    <tr>\n",
       "      <th>105</th>\n",
       "      <td>Abo</td>\n",
       "      <td>NS7</td>\n",
       "      <td>20602</td>\n",
       "      <td>2025-07-25 06:18:04</td>\n",
       "      <td>2025-07-25 06:18:29</td>\n",
       "      <td>NaN</td>\n",
       "      <td>0 days 00:00:25</td>\n",
       "    </tr>\n",
       "    <tr>\n",
       "      <th>567</th>\n",
       "      <td>Lancha</td>\n",
       "      <td>NS12</td>\n",
       "      <td>20502</td>\n",
       "      <td>2025-07-25 06:18:13</td>\n",
       "      <td>2025-07-25 06:18:38</td>\n",
       "      <td>NaN</td>\n",
       "      <td>0 days 00:00:25</td>\n",
       "    </tr>\n",
       "    <tr>\n",
       "      <th>1505</th>\n",
       "      <td>Temenja Yazh</td>\n",
       "      <td>NS13</td>\n",
       "      <td>20502</td>\n",
       "      <td>2025-07-25 06:20:03</td>\n",
       "      <td>2025-07-25 06:20:28</td>\n",
       "      <td>NaN</td>\n",
       "      <td>0 days 00:00:25</td>\n",
       "    </tr>\n",
       "  </tbody>\n",
       "</table>\n",
       "</div>"
      ],
      "text/plain": [
       "arrival_departure      Stations station_id train_id             Arrival  \\\n",
       "98                          Abo        NS7    20502 2025-07-25 06:03:04   \n",
       "1170                      Saris        NS8    20502 2025-07-25 06:06:22   \n",
       "105                         Abo        NS7    20602 2025-07-25 06:18:04   \n",
       "567                      Lancha       NS12    20502 2025-07-25 06:18:13   \n",
       "1505               Temenja Yazh       NS13    20502 2025-07-25 06:20:03   \n",
       "\n",
       "arrival_departure           Departure Returning       Dwell_Time  \n",
       "98                2025-07-25 06:03:29        NaN 0 days 00:00:25  \n",
       "1170              2025-07-25 06:06:47        NaN 0 days 00:00:25  \n",
       "105               2025-07-25 06:18:29        NaN 0 days 00:00:25  \n",
       "567               2025-07-25 06:18:38        NaN 0 days 00:00:25  \n",
       "1505              2025-07-25 06:20:28        NaN 0 days 00:00:25  "
      ]
     },
     "execution_count": 65,
     "metadata": {},
     "output_type": "execute_result"
    }
   ],
   "source": [
    "df_pivot.head()"
   ]
  },
  {
   "cell_type": "code",
   "execution_count": 66,
   "id": "1351f31c",
   "metadata": {},
   "outputs": [
    {
     "name": "stdout",
     "output_type": "stream",
     "text": [
      "<class 'pandas.core.frame.DataFrame'>\n",
      "Index: 1541 entries, 98 to 1540\n",
      "Data columns (total 7 columns):\n",
      " #   Column      Non-Null Count  Dtype          \n",
      "---  ------      --------------  -----          \n",
      " 0   Stations    1541 non-null   object         \n",
      " 1   station_id  1541 non-null   object         \n",
      " 2   train_id    1541 non-null   object         \n",
      " 3   Arrival     1452 non-null   datetime64[ns] \n",
      " 4   Departure   1452 non-null   datetime64[ns] \n",
      " 5   Returning   67 non-null     object         \n",
      " 6   Dwell_Time  1452 non-null   timedelta64[ns]\n",
      "dtypes: datetime64[ns](2), object(4), timedelta64[ns](1)\n",
      "memory usage: 96.3+ KB\n"
     ]
    }
   ],
   "source": [
    "df_pivot.info()"
   ]
  },
  {
   "cell_type": "code",
   "execution_count": 67,
   "id": "54b81cdf",
   "metadata": {},
   "outputs": [
    {
     "name": "stdout",
     "output_type": "stream",
     "text": [
      "Series([], dtype: int64)\n"
     ]
    }
   ],
   "source": [
    "counts = df_pivot.groupby('Stations').size()\n",
    "print(counts[counts <= 1])  # stations with 1 or 0 records\n"
   ]
  },
  {
   "cell_type": "code",
   "execution_count": 68,
   "id": "e88889f0",
   "metadata": {},
   "outputs": [],
   "source": [
    "#save df_privot as csv\n",
    "df_pivot.to_csv('../data/processed/NS_time_table_processed.csv', index=False)"
   ]
  },
  {
   "cell_type": "code",
   "execution_count": 69,
   "id": "87330ceb",
   "metadata": {},
   "outputs": [
    {
     "name": "stdout",
     "output_type": "stream",
     "text": [
      "                    Stations    Avg_Gap   Min_Gap  Max_Gap   Gap_Std\n",
      "7              Kality T20618  14.764103  5.866667     23.0  3.314762\n",
      "0                      Abnet  14.769231  6.000000     23.0  3.306099\n",
      "2                 Adey Ababa  14.769231  6.000000     23.0  3.306099\n",
      "1                        Abo  14.769231  6.000000     23.0  3.306099\n",
      "3             Atikilt Tera    14.769231  6.000000     23.0  3.306099\n",
      "4               Autobus Tera  14.769231  6.000000     23.0  3.306099\n",
      "5              Darmar T22010  14.769231  6.000000     23.0  3.306099\n",
      "6              Gojam Berenda  14.769231  6.000000     23.0  3.306099\n",
      "8                     Lancha  14.769231  6.000000     23.0  3.306099\n",
      "9                     Leghar  14.769231  6.000000     23.0  3.306099\n",
      "10  Menilik II Square T22706  14.769231  6.000000     23.0  3.306099\n",
      "11               Meshoulekya  14.769231  6.000000     23.0  3.306099\n",
      "12                    Mexico  14.769231  6.000000     23.0  3.306099\n",
      "13              Nefas Silk 1  14.769231  6.000000     23.0  3.306099\n",
      "14              Nefas Silk 2  14.769231  6.000000     23.0  3.306099\n",
      "15                     Riche  14.769231  6.000000     23.0  3.306099\n",
      "16                     Saris  14.769231  6.000000     23.0  3.306099\n",
      "17                 Sebategna  14.769231  6.000000     23.0  3.306099\n",
      "18                 St.Lideta  14.769231  6.000000     23.0  3.306099\n",
      "19                   Stadium  14.769231  6.000000     23.0  3.306099\n",
      "20                  Tegbared  14.769231  6.000000     23.0  3.306099\n",
      "21              Temenja Yazh  14.769231  6.000000     23.0  3.306099\n"
     ]
    }
   ],
   "source": [
    "import pandas as pd\n",
    "from datetime import datetime\n",
    "\n",
    "# Assuming your data is loaded as `df` with columns: Stations, Arrival, Departure, etc.\n",
    "# Example structure:\n",
    "# df = pd.read_csv(\"your_data.csv\")\n",
    "\n",
    "\n",
    "# Sort by Stations and Arrival Time\n",
    "df_sorted = df_pivot.sort_values(['Stations', 'Arrival'])\n",
    "\n",
    "# Calculate Inter-Arrival Gaps (time between consecutive trains at the same station)\n",
    "df_sorted['Next_Arrival'] = df_sorted.groupby('Stations')['Arrival'].shift(-1)\n",
    "df_sorted['Arrival_Gap'] = (df_sorted['Next_Arrival'] - df_sorted['Arrival']).dt.total_seconds() / 60  # in minutes\n",
    "\n",
    "# Drop NaN (last train at each station has no \"next arrival\")\n",
    "df_gaps = df_sorted.dropna(subset=['Arrival_Gap'])\n",
    "\n",
    "# Aggregate by Stations\n",
    "station_stats = df_gaps.groupby('Stations')['Arrival_Gap'].agg(\n",
    "    Avg_Gap='mean',\n",
    "    Min_Gap='min',  # Busiest station (shortest gap)\n",
    "    Max_Gap='max',  # Least busy station (longest gap)\n",
    "    Gap_Std='std'   # Consistency of gaps\n",
    ").reset_index()\n",
    "\n",
    "# Sort by Avg_Gap to see busiest stations first\n",
    "station_stats = station_stats.sort_values('Avg_Gap')\n",
    "\n",
    "print(station_stats)"
   ]
  },
  {
   "cell_type": "code",
   "execution_count": 72,
   "id": "1e5f698b",
   "metadata": {},
   "outputs": [
    {
     "ename": "ValueError",
     "evalue": "Key backend: 'module://matplotlib_inline.backend_inline' is not a valid value for backend; supported values are ['gtk3agg', 'gtk3cairo', 'gtk4agg', 'gtk4cairo', 'macosx', 'nbagg', 'notebook', 'qtagg', 'qtcairo', 'qt5agg', 'qt5cairo', 'tkagg', 'tkcairo', 'webagg', 'wx', 'wxagg', 'wxcairo', 'agg', 'cairo', 'pdf', 'pgf', 'ps', 'svg', 'template']",
     "output_type": "error",
     "traceback": [
      "\u001b[31m---------------------------------------------------------------------------\u001b[39m",
      "\u001b[31mValueError\u001b[39m                                Traceback (most recent call last)",
      "\u001b[36mCell\u001b[39m\u001b[36m \u001b[39m\u001b[32mIn[72]\u001b[39m\u001b[32m, line 1\u001b[39m\n\u001b[32m----> \u001b[39m\u001b[32m1\u001b[39m \u001b[38;5;28;01mimport\u001b[39;00m\u001b[38;5;250m \u001b[39m\u001b[34;01mmatplotlib\u001b[39;00m\n\u001b[32m      2\u001b[39m matplotlib.use(\u001b[33m'\u001b[39m\u001b[33mAgg\u001b[39m\u001b[33m'\u001b[39m)  \u001b[38;5;66;03m# Use the 'Agg' backend which is always available\u001b[39;00m\n\u001b[32m      3\u001b[39m \u001b[38;5;66;03m# Now import pyplot\u001b[39;00m\n",
      "\u001b[36mFile \u001b[39m\u001b[32mc:\\Users\\nebiy\\Documents\\code\\Train-Passenger-Flow-Analysis\\venv\\Lib\\site-packages\\matplotlib\\__init__.py:1296\u001b[39m\n\u001b[32m   1292\u001b[39m     rcParams[\u001b[33m'\u001b[39m\u001b[33mbackend_fallback\u001b[39m\u001b[33m'\u001b[39m] = \u001b[38;5;28;01mFalse\u001b[39;00m\n\u001b[32m   1295\u001b[39m \u001b[38;5;28;01mif\u001b[39;00m os.environ.get(\u001b[33m'\u001b[39m\u001b[33mMPLBACKEND\u001b[39m\u001b[33m'\u001b[39m):\n\u001b[32m-> \u001b[39m\u001b[32m1296\u001b[39m     \u001b[43mrcParams\u001b[49m\u001b[43m[\u001b[49m\u001b[33;43m'\u001b[39;49m\u001b[33;43mbackend\u001b[39;49m\u001b[33;43m'\u001b[39;49m\u001b[43m]\u001b[49m = os.environ.get(\u001b[33m'\u001b[39m\u001b[33mMPLBACKEND\u001b[39m\u001b[33m'\u001b[39m)\n\u001b[32m   1299\u001b[39m \u001b[38;5;28;01mdef\u001b[39;00m\u001b[38;5;250m \u001b[39m\u001b[34mget_backend\u001b[39m(*, auto_select=\u001b[38;5;28;01mTrue\u001b[39;00m):\n\u001b[32m   1300\u001b[39m \u001b[38;5;250m    \u001b[39m\u001b[33;03m\"\"\"\u001b[39;00m\n\u001b[32m   1301\u001b[39m \u001b[33;03m    Return the name of the current backend.\u001b[39;00m\n\u001b[32m   1302\u001b[39m \n\u001b[32m   (...)\u001b[39m\u001b[32m   1320\u001b[39m \u001b[33;03m    matplotlib.use\u001b[39;00m\n\u001b[32m   1321\u001b[39m \u001b[33;03m    \"\"\"\u001b[39;00m\n",
      "\u001b[36mFile \u001b[39m\u001b[32mc:\\Users\\nebiy\\Documents\\code\\Train-Passenger-Flow-Analysis\\venv\\Lib\\site-packages\\matplotlib\\__init__.py:771\u001b[39m, in \u001b[36mRcParams.__setitem__\u001b[39m\u001b[34m(self, key, val)\u001b[39m\n\u001b[32m    769\u001b[39m         cval = \u001b[38;5;28mself\u001b[39m.validate[key](val)\n\u001b[32m    770\u001b[39m     \u001b[38;5;28;01mexcept\u001b[39;00m \u001b[38;5;167;01mValueError\u001b[39;00m \u001b[38;5;28;01mas\u001b[39;00m ve:\n\u001b[32m--> \u001b[39m\u001b[32m771\u001b[39m         \u001b[38;5;28;01mraise\u001b[39;00m \u001b[38;5;167;01mValueError\u001b[39;00m(\u001b[33mf\u001b[39m\u001b[33m\"\u001b[39m\u001b[33mKey \u001b[39m\u001b[38;5;132;01m{\u001b[39;00mkey\u001b[38;5;132;01m}\u001b[39;00m\u001b[33m: \u001b[39m\u001b[38;5;132;01m{\u001b[39;00mve\u001b[38;5;132;01m}\u001b[39;00m\u001b[33m\"\u001b[39m) \u001b[38;5;28;01mfrom\u001b[39;00m\u001b[38;5;250m \u001b[39m\u001b[38;5;28;01mNone\u001b[39;00m\n\u001b[32m    772\u001b[39m     \u001b[38;5;28mself\u001b[39m._set(key, cval)\n\u001b[32m    773\u001b[39m \u001b[38;5;28;01mexcept\u001b[39;00m \u001b[38;5;167;01mKeyError\u001b[39;00m \u001b[38;5;28;01mas\u001b[39;00m err:\n",
      "\u001b[31mValueError\u001b[39m: Key backend: 'module://matplotlib_inline.backend_inline' is not a valid value for backend; supported values are ['gtk3agg', 'gtk3cairo', 'gtk4agg', 'gtk4cairo', 'macosx', 'nbagg', 'notebook', 'qtagg', 'qtcairo', 'qt5agg', 'qt5cairo', 'tkagg', 'tkcairo', 'webagg', 'wx', 'wxagg', 'wxcairo', 'agg', 'cairo', 'pdf', 'pgf', 'ps', 'svg', 'template']"
     ]
    }
   ],
   "source": [
    "import matplotlib\n",
    "matplotlib.use('Agg')  # Use the 'Agg' backend which is always available\n",
    "# Now import pyplot\n",
    "import matplotlib.pyplot as plt"
   ]
  },
  {
   "cell_type": "code",
   "execution_count": 70,
   "id": "6b81d4d2",
   "metadata": {},
   "outputs": [
    {
     "ename": "ValueError",
     "evalue": "Key backend: 'module://matplotlib_inline.backend_inline' is not a valid value for backend; supported values are ['gtk3agg', 'gtk3cairo', 'gtk4agg', 'gtk4cairo', 'macosx', 'nbagg', 'notebook', 'qtagg', 'qtcairo', 'qt5agg', 'qt5cairo', 'tkagg', 'tkcairo', 'webagg', 'wx', 'wxagg', 'wxcairo', 'agg', 'cairo', 'pdf', 'pgf', 'ps', 'svg', 'template']",
     "output_type": "error",
     "traceback": [
      "\u001b[31m---------------------------------------------------------------------------\u001b[39m",
      "\u001b[31mValueError\u001b[39m                                Traceback (most recent call last)",
      "\u001b[36mCell\u001b[39m\u001b[36m \u001b[39m\u001b[32mIn[70]\u001b[39m\u001b[32m, line 2\u001b[39m\n\u001b[32m      1\u001b[39m \u001b[38;5;66;03m#visualize the busiest stations\u001b[39;00m\n\u001b[32m----> \u001b[39m\u001b[32m2\u001b[39m \u001b[38;5;28;01mimport\u001b[39;00m\u001b[38;5;250m \u001b[39m\u001b[34;01mmatplotlib\u001b[39;00m\u001b[34;01m.\u001b[39;00m\u001b[34;01mpyplot\u001b[39;00m\u001b[38;5;250m \u001b[39m\u001b[38;5;28;01mas\u001b[39;00m\u001b[38;5;250m \u001b[39m\u001b[34;01mplt\u001b[39;00m\n\u001b[32m      3\u001b[39m plt.figure(figsize=(\u001b[32m12\u001b[39m, \u001b[32m6\u001b[39m))\n\u001b[32m      4\u001b[39m plt.barh(station_stats[\u001b[33m'\u001b[39m\u001b[33mStations\u001b[39m\u001b[33m'\u001b[39m], station_stats[\u001b[33m'\u001b[39m\u001b[33mAvg_Gap\u001b[39m\u001b[33m'\u001b[39m], color=\u001b[33m'\u001b[39m\u001b[33mskyblue\u001b[39m\u001b[33m'\u001b[39m)\n",
      "\u001b[36mFile \u001b[39m\u001b[32mc:\\Users\\nebiy\\Documents\\code\\Train-Passenger-Flow-Analysis\\venv\\Lib\\site-packages\\matplotlib\\__init__.py:1296\u001b[39m\n\u001b[32m   1292\u001b[39m     rcParams[\u001b[33m'\u001b[39m\u001b[33mbackend_fallback\u001b[39m\u001b[33m'\u001b[39m] = \u001b[38;5;28;01mFalse\u001b[39;00m\n\u001b[32m   1295\u001b[39m \u001b[38;5;28;01mif\u001b[39;00m os.environ.get(\u001b[33m'\u001b[39m\u001b[33mMPLBACKEND\u001b[39m\u001b[33m'\u001b[39m):\n\u001b[32m-> \u001b[39m\u001b[32m1296\u001b[39m     \u001b[43mrcParams\u001b[49m\u001b[43m[\u001b[49m\u001b[33;43m'\u001b[39;49m\u001b[33;43mbackend\u001b[39;49m\u001b[33;43m'\u001b[39;49m\u001b[43m]\u001b[49m = os.environ.get(\u001b[33m'\u001b[39m\u001b[33mMPLBACKEND\u001b[39m\u001b[33m'\u001b[39m)\n\u001b[32m   1299\u001b[39m \u001b[38;5;28;01mdef\u001b[39;00m\u001b[38;5;250m \u001b[39m\u001b[34mget_backend\u001b[39m(*, auto_select=\u001b[38;5;28;01mTrue\u001b[39;00m):\n\u001b[32m   1300\u001b[39m \u001b[38;5;250m    \u001b[39m\u001b[33;03m\"\"\"\u001b[39;00m\n\u001b[32m   1301\u001b[39m \u001b[33;03m    Return the name of the current backend.\u001b[39;00m\n\u001b[32m   1302\u001b[39m \n\u001b[32m   (...)\u001b[39m\u001b[32m   1320\u001b[39m \u001b[33;03m    matplotlib.use\u001b[39;00m\n\u001b[32m   1321\u001b[39m \u001b[33;03m    \"\"\"\u001b[39;00m\n",
      "\u001b[36mFile \u001b[39m\u001b[32mc:\\Users\\nebiy\\Documents\\code\\Train-Passenger-Flow-Analysis\\venv\\Lib\\site-packages\\matplotlib\\__init__.py:771\u001b[39m, in \u001b[36mRcParams.__setitem__\u001b[39m\u001b[34m(self, key, val)\u001b[39m\n\u001b[32m    769\u001b[39m         cval = \u001b[38;5;28mself\u001b[39m.validate[key](val)\n\u001b[32m    770\u001b[39m     \u001b[38;5;28;01mexcept\u001b[39;00m \u001b[38;5;167;01mValueError\u001b[39;00m \u001b[38;5;28;01mas\u001b[39;00m ve:\n\u001b[32m--> \u001b[39m\u001b[32m771\u001b[39m         \u001b[38;5;28;01mraise\u001b[39;00m \u001b[38;5;167;01mValueError\u001b[39;00m(\u001b[33mf\u001b[39m\u001b[33m\"\u001b[39m\u001b[33mKey \u001b[39m\u001b[38;5;132;01m{\u001b[39;00mkey\u001b[38;5;132;01m}\u001b[39;00m\u001b[33m: \u001b[39m\u001b[38;5;132;01m{\u001b[39;00mve\u001b[38;5;132;01m}\u001b[39;00m\u001b[33m\"\u001b[39m) \u001b[38;5;28;01mfrom\u001b[39;00m\u001b[38;5;250m \u001b[39m\u001b[38;5;28;01mNone\u001b[39;00m\n\u001b[32m    772\u001b[39m     \u001b[38;5;28mself\u001b[39m._set(key, cval)\n\u001b[32m    773\u001b[39m \u001b[38;5;28;01mexcept\u001b[39;00m \u001b[38;5;167;01mKeyError\u001b[39;00m \u001b[38;5;28;01mas\u001b[39;00m err:\n",
      "\u001b[31mValueError\u001b[39m: Key backend: 'module://matplotlib_inline.backend_inline' is not a valid value for backend; supported values are ['gtk3agg', 'gtk3cairo', 'gtk4agg', 'gtk4cairo', 'macosx', 'nbagg', 'notebook', 'qtagg', 'qtcairo', 'qt5agg', 'qt5cairo', 'tkagg', 'tkcairo', 'webagg', 'wx', 'wxagg', 'wxcairo', 'agg', 'cairo', 'pdf', 'pgf', 'ps', 'svg', 'template']"
     ]
    }
   ],
   "source": [
    "#visualize the busiest stations\n",
    "import matplotlib.pyplot as plt\n",
    "plt.figure(figsize=(12, 6))\n",
    "plt.barh(station_stats['Stations'], station_stats['Avg_Gap'], color='skyblue')\n",
    "plt.xlabel('Average Arrival Gap (minutes)')\n",
    "plt.title('Average Arrival Gap by Station')\n",
    "plt.show()"
   ]
  }
 ],
 "metadata": {
  "kernelspec": {
   "display_name": "venv",
   "language": "python",
   "name": "python3"
  },
  "language_info": {
   "codemirror_mode": {
    "name": "ipython",
    "version": 3
   },
   "file_extension": ".py",
   "mimetype": "text/x-python",
   "name": "python",
   "nbconvert_exporter": "python",
   "pygments_lexer": "ipython3",
   "version": "3.12.10"
  }
 },
 "nbformat": 4,
 "nbformat_minor": 5
}
